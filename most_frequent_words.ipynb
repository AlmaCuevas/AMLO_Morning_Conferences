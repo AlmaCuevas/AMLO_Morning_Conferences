{
 "cells": [
  {
   "cell_type": "markdown",
   "source": [
    "# Most frequent words"
   ],
   "metadata": {
    "collapsed": false
   }
  },
  {
   "cell_type": "code",
   "execution_count": 10,
   "outputs": [],
   "source": [
    "import pandas as pd\n",
    "from sklearn.cluster import KMeans\n",
    "import nltk\n",
    "from nltk.corpus import stopwords\n",
    "import numpy as np\n",
    "from pattern.text.es import singularize\n",
    "from sklearn.feature_extraction.text import CountVectorizer, TfidfVectorizer"
   ],
   "metadata": {
    "collapsed": false
   }
  },
  {
   "cell_type": "code",
   "execution_count": 8,
   "outputs": [
    {
     "data": {
      "text/plain": "(70352, 8)"
     },
     "execution_count": 8,
     "metadata": {},
     "output_type": "execute_result"
    }
   ],
   "source": [
    "all_df = pd.read_csv('df_2019.csv')\n",
    "all_df.shape"
   ],
   "metadata": {
    "collapsed": false
   }
  },
  {
   "cell_type": "code",
   "execution_count": 24,
   "outputs": [
    {
     "name": "stdout",
     "output_type": "stream",
     "text": [
      "\n",
      "\n",
      "Words head : \n",
      "                                                      term       rank\n",
      "490262                      muy buenos días todas ustedes  22.715261\n",
      "590480          presidente alberto rodríguez sdp noticias  19.111745\n",
      "98522                 buenos días señor presidente buenos  19.100927\n",
      "241959                  días señor presidente buenos días  18.284120\n",
      "98351            buenos días presidente alberto rodríguez  17.291307\n",
      "...                                                   ...        ...\n",
      "317838     fiscalía general república unidad inteligencia   0.096225\n",
      "172275     cruces subgerente regional energéticos sureste   0.096225\n",
      "49522              ampliaran meses francisco moreno núñez   0.096225\n",
      "803801  veracruz firmó convenios modificatorios ampliaron   0.096225\n",
      "521570        olvera rico subgerente regional energéticos   0.096225\n",
      "\n",
      "[824576 rows x 2 columns]\n"
     ]
    }
   ],
   "source": [
    "def select_secondary_keywords_ngrams(txt_list: list[str], ngram_min: int, ngram_max: int) -> list[str]:\n",
    "    # Stopword removal\n",
    "    stop_words = set(stopwords.words('spanish'))\n",
    "    txt1 = []\n",
    "    for line in txt_list:\n",
    "        txt1.append(' '.join([x for\n",
    "                            x in nltk.word_tokenize(line) if\n",
    "                            (x not in stop_words)]))\n",
    "\n",
    "    # Getting trigrams\n",
    "    vectorizer = CountVectorizer(ngram_range=(ngram_min, ngram_max))\n",
    "    X1 = vectorizer.fit_transform(txt1)\n",
    "    features = (vectorizer.get_feature_names_out())\n",
    "\n",
    "    # Applying TFIDF\n",
    "    vectorizer = TfidfVectorizer(ngram_range=(ngram_min, ngram_max))\n",
    "    X2 = vectorizer.fit_transform(txt1)\n",
    "    scores = (X2.toarray())\n",
    "\n",
    "    # Getting top ranking features\n",
    "    sums = X2.sum(axis=0)\n",
    "    data1 = []\n",
    "    for col, term in enumerate(features):\n",
    "        data1.append((term, sums[0, col]))\n",
    "    ranking = pd.DataFrame(data1, columns=['term', 'rank'])\n",
    "    words = (ranking.sort_values('rank', ascending=False))\n",
    "    return words\n",
    "\n",
    "frequent_words = select_secondary_keywords_ngrams(all_df.Texto, 5, 5)  #[0:max_n]\n",
    "print(\"\\n\\nWords head : \\n\", frequent_words)"
   ],
   "metadata": {
    "collapsed": false
   }
  },
  {
   "cell_type": "markdown",
   "source": [
    "# Unsupervised classification of all conversations"
   ],
   "metadata": {
    "collapsed": false
   }
  },
  {
   "cell_type": "code",
   "execution_count": 25,
   "outputs": [
    {
     "name": "stdout",
     "output_type": "stream",
     "text": [
      "Cluster 0:\n",
      " ser\n",
      " gente\n",
      " va\n",
      " puede\n",
      " van\n",
      " debe\n",
      " mucha\n",
      " vamos\n",
      " entonces\n",
      " humilde\n",
      "Cluster 1:\n",
      " si\n",
      " usted\n",
      " sé\n",
      " va\n",
      " ver\n",
      " saber\n",
      " puede\n",
      " preguntarle\n",
      " presidente\n",
      " gobierno\n",
      "Cluster 2:\n",
      " dinero\n",
      " quiero\n",
      " presupuesto\n",
      " lavado\n",
      " decir\n",
      " va\n",
      " pueblo\n",
      " hacer\n",
      " gobierno\n",
      " si\n",
      "Cluster 3:\n",
      " va\n",
      " vamos\n",
      " mil\n",
      " méxico\n",
      " gobierno\n",
      " presidente\n",
      " entonces\n",
      " país\n",
      " ahora\n",
      " van\n"
     ]
    }
   ],
   "source": [
    "vectorizer = TfidfVectorizer(stop_words=stopwords.words(\"spanish\"))\n",
    "X = vectorizer.fit_transform(frequent_words[\"term\"])\n",
    "true_k = 4 # Number of groups\n",
    "model = KMeans(n_clusters=true_k, init='k-means++', max_iter=100, n_init=1)\n",
    "model.fit(X)\n",
    "order_centroids = model.cluster_centers_.argsort()[:, ::-1]\n",
    "terms = vectorizer.get_feature_names_out()\n",
    "for i in range(true_k):\n",
    "    print(\"Cluster %d:\" % i),\n",
    "    for ind in order_centroids[i, :10]:\n",
    "        print(' %s' % terms[ind])"
   ],
   "metadata": {
    "collapsed": false
   }
  },
  {
   "cell_type": "code",
   "execution_count": null,
   "outputs": [],
   "source": [],
   "metadata": {
    "collapsed": false
   }
  }
 ],
 "metadata": {
  "kernelspec": {
   "display_name": "Python 3",
   "language": "python",
   "name": "python3"
  },
  "language_info": {
   "codemirror_mode": {
    "name": "ipython",
    "version": 2
   },
   "file_extension": ".py",
   "mimetype": "text/x-python",
   "name": "python",
   "nbconvert_exporter": "python",
   "pygments_lexer": "ipython2",
   "version": "2.7.6"
  }
 },
 "nbformat": 4,
 "nbformat_minor": 0
}
