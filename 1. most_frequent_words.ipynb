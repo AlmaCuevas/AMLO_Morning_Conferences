{
 "cells": [
  {
   "cell_type": "markdown",
   "source": [
    "# Most frequent words"
   ],
   "metadata": {
    "collapsed": false
   }
  },
  {
   "cell_type": "code",
   "execution_count": 1,
   "outputs": [],
   "source": [
    "import pandas as pd\n",
    "from sklearn.cluster import KMeans\n",
    "import nltk\n",
    "from nltk.corpus import stopwords\n",
    "import numpy as np\n",
    "from pattern.text.es import singularize\n",
    "from sklearn.feature_extraction.text import CountVectorizer, TfidfVectorizer\n",
    "import re\n",
    "from share import select_secondary_keywords_ngrams\n",
    "from tqdm.notebook import tqdm\n",
    "import pickle\n",
    "tqdm.pandas()"
   ],
   "metadata": {
    "collapsed": false
   }
  },
  {
   "cell_type": "code",
   "execution_count": 2,
   "outputs": [
    {
     "data": {
      "text/plain": "(352834, 8)"
     },
     "execution_count": 2,
     "metadata": {},
     "output_type": "execute_result"
    }
   ],
   "source": [
    "all_df = pd.read_csv('all_df.csv')\n",
    "all_df.shape"
   ],
   "metadata": {
    "collapsed": false
   }
  },
  {
   "cell_type": "code",
   "execution_count": 8,
   "outputs": [],
   "source": [
    "all_df_2023 = all_df.loc[all_df['Anio']==2023]\n",
    "all_df_2023.to_csv('/Users/almacuevas/work_projects/conferencias_matutinas_amlo/all_df_2023.csv')"
   ],
   "metadata": {
    "collapsed": false
   }
  },
  {
   "cell_type": "code",
   "execution_count": 21,
   "outputs": [],
   "source": [
    "def split_content(content):\n",
    "    if not content:\n",
    "        return []\n",
    "    return ' '.join(re.split(r\"\\s*[:?!;|,-.]\\s*\", content))"
   ],
   "metadata": {
    "collapsed": false
   }
  },
  {
   "cell_type": "code",
   "execution_count": 22,
   "outputs": [
    {
     "data": {
      "text/plain": "  0%|          | 0/352834 [00:00<?, ?it/s]",
      "application/vnd.jupyter.widget-view+json": {
       "version_major": 2,
       "version_minor": 0,
       "model_id": "d46a5e3fb6ef49c1a19800e43c674779"
      }
     },
     "metadata": {},
     "output_type": "display_data"
    },
    {
     "data": {
      "text/plain": "        Unnamed: 0                             Participante  \\\n0                0  -PRESIDENTE ANDRES MANUEL LOPEZ OBRADOR   \n1                1  -PRESIDENTE ANDRES MANUEL LOPEZ OBRADOR   \n2                2  -PRESIDENTE ANDRES MANUEL LOPEZ OBRADOR   \n3                3  -PRESIDENTE ANDRES MANUEL LOPEZ OBRADOR   \n4                4  -PRESIDENTE ANDRES MANUEL LOPEZ OBRADOR   \n...            ...                                      ...   \n352829      352829   PRESIDENTE ANDRES MANUEL LOPEZ OBRADOR   \n352830      352830   PRESIDENTE ANDRES MANUEL LOPEZ OBRADOR   \n352831      352831   PRESIDENTE ANDRES MANUEL LOPEZ OBRADOR   \n352832      352832   PRESIDENTE ANDRES MANUEL LOPEZ OBRADOR   \n352833      352833   PRESIDENTE ANDRES MANUEL LOPEZ OBRADOR   \n\n                                                    Texto  Sentimiento  \\\n0        Informarles que el día de hoy voy a enviar al...     0.001959   \n1       Les doy a conocer los nombres de quienes están...     0.771382   \n2       La abogada Loretta Ortiz. Ella es egresada de ...     0.034682   \n3       También, la licenciada Celia Maya García. Ella...     0.003624   \n4       Y el tercer abogado propuesto es el licenciado...     0.017006   \n...                                                   ...          ...   \n352829  Y va a seguir ayudando Ricardo en Coahuila par...     0.000000   \n352830  Esto me lo plantearon en una reunión que tuve ...     0.000000   \n352831      Entonces, él va a seguir ayudándonos en esto.     0.000000   \n352832  Y con mucha responsabilidad, con mucha madurez...     0.000000   \n352833                          Muchas gracias ya. Adiós.     0.000000   \n\n        Palabras  Dia  Mes  Anio  \\\n0             58    6   12  2018   \n1             10    6   12  2018   \n2             27    6   12  2018   \n3             46    6   12  2018   \n4             39    6   12  2018   \n...          ...  ...  ...   ...   \n352829        38   15   12  2022   \n352830        67   15   12  2022   \n352831         8   15   12  2022   \n352832        44   15   12  2022   \n352833         4   15   12  2022   \n\n                                               preprocess  \n0        Informarles que el día de hoy voy a enviar al...  \n1       Les doy a conocer los nombres de quienes están...  \n2       La abogada Loretta Ortiz Ella es egresada de l...  \n3       También la licenciada Celia Maya García Ella e...  \n4       Y el tercer abogado propuesto es el licenciado...  \n...                                                   ...  \n352829  Y va a seguir ayudando Ricardo en Coahuila par...  \n352830  Esto me lo plantearon en una reunión que tuve ...  \n352831       Entonces él va a seguir ayudándonos en esto   \n352832  Y con mucha responsabilidad con mucha madurez ...  \n352833                           Muchas gracias ya Adiós   \n\n[352834 rows x 9 columns]",
      "text/html": "<div>\n<style scoped>\n    .dataframe tbody tr th:only-of-type {\n        vertical-align: middle;\n    }\n\n    .dataframe tbody tr th {\n        vertical-align: top;\n    }\n\n    .dataframe thead th {\n        text-align: right;\n    }\n</style>\n<table border=\"1\" class=\"dataframe\">\n  <thead>\n    <tr style=\"text-align: right;\">\n      <th></th>\n      <th>Unnamed: 0</th>\n      <th>Participante</th>\n      <th>Texto</th>\n      <th>Sentimiento</th>\n      <th>Palabras</th>\n      <th>Dia</th>\n      <th>Mes</th>\n      <th>Anio</th>\n      <th>preprocess</th>\n    </tr>\n  </thead>\n  <tbody>\n    <tr>\n      <th>0</th>\n      <td>0</td>\n      <td>-PRESIDENTE ANDRES MANUEL LOPEZ OBRADOR</td>\n      <td>Informarles que el día de hoy voy a enviar al...</td>\n      <td>0.001959</td>\n      <td>58</td>\n      <td>6</td>\n      <td>12</td>\n      <td>2018</td>\n      <td>Informarles que el día de hoy voy a enviar al...</td>\n    </tr>\n    <tr>\n      <th>1</th>\n      <td>1</td>\n      <td>-PRESIDENTE ANDRES MANUEL LOPEZ OBRADOR</td>\n      <td>Les doy a conocer los nombres de quienes están...</td>\n      <td>0.771382</td>\n      <td>10</td>\n      <td>6</td>\n      <td>12</td>\n      <td>2018</td>\n      <td>Les doy a conocer los nombres de quienes están...</td>\n    </tr>\n    <tr>\n      <th>2</th>\n      <td>2</td>\n      <td>-PRESIDENTE ANDRES MANUEL LOPEZ OBRADOR</td>\n      <td>La abogada Loretta Ortiz. Ella es egresada de ...</td>\n      <td>0.034682</td>\n      <td>27</td>\n      <td>6</td>\n      <td>12</td>\n      <td>2018</td>\n      <td>La abogada Loretta Ortiz Ella es egresada de l...</td>\n    </tr>\n    <tr>\n      <th>3</th>\n      <td>3</td>\n      <td>-PRESIDENTE ANDRES MANUEL LOPEZ OBRADOR</td>\n      <td>También, la licenciada Celia Maya García. Ella...</td>\n      <td>0.003624</td>\n      <td>46</td>\n      <td>6</td>\n      <td>12</td>\n      <td>2018</td>\n      <td>También la licenciada Celia Maya García Ella e...</td>\n    </tr>\n    <tr>\n      <th>4</th>\n      <td>4</td>\n      <td>-PRESIDENTE ANDRES MANUEL LOPEZ OBRADOR</td>\n      <td>Y el tercer abogado propuesto es el licenciado...</td>\n      <td>0.017006</td>\n      <td>39</td>\n      <td>6</td>\n      <td>12</td>\n      <td>2018</td>\n      <td>Y el tercer abogado propuesto es el licenciado...</td>\n    </tr>\n    <tr>\n      <th>...</th>\n      <td>...</td>\n      <td>...</td>\n      <td>...</td>\n      <td>...</td>\n      <td>...</td>\n      <td>...</td>\n      <td>...</td>\n      <td>...</td>\n      <td>...</td>\n    </tr>\n    <tr>\n      <th>352829</th>\n      <td>352829</td>\n      <td>PRESIDENTE ANDRES MANUEL LOPEZ OBRADOR</td>\n      <td>Y va a seguir ayudando Ricardo en Coahuila par...</td>\n      <td>0.000000</td>\n      <td>38</td>\n      <td>15</td>\n      <td>12</td>\n      <td>2022</td>\n      <td>Y va a seguir ayudando Ricardo en Coahuila par...</td>\n    </tr>\n    <tr>\n      <th>352830</th>\n      <td>352830</td>\n      <td>PRESIDENTE ANDRES MANUEL LOPEZ OBRADOR</td>\n      <td>Esto me lo plantearon en una reunión que tuve ...</td>\n      <td>0.000000</td>\n      <td>67</td>\n      <td>15</td>\n      <td>12</td>\n      <td>2022</td>\n      <td>Esto me lo plantearon en una reunión que tuve ...</td>\n    </tr>\n    <tr>\n      <th>352831</th>\n      <td>352831</td>\n      <td>PRESIDENTE ANDRES MANUEL LOPEZ OBRADOR</td>\n      <td>Entonces, él va a seguir ayudándonos en esto.</td>\n      <td>0.000000</td>\n      <td>8</td>\n      <td>15</td>\n      <td>12</td>\n      <td>2022</td>\n      <td>Entonces él va a seguir ayudándonos en esto</td>\n    </tr>\n    <tr>\n      <th>352832</th>\n      <td>352832</td>\n      <td>PRESIDENTE ANDRES MANUEL LOPEZ OBRADOR</td>\n      <td>Y con mucha responsabilidad, con mucha madurez...</td>\n      <td>0.000000</td>\n      <td>44</td>\n      <td>15</td>\n      <td>12</td>\n      <td>2022</td>\n      <td>Y con mucha responsabilidad con mucha madurez ...</td>\n    </tr>\n    <tr>\n      <th>352833</th>\n      <td>352833</td>\n      <td>PRESIDENTE ANDRES MANUEL LOPEZ OBRADOR</td>\n      <td>Muchas gracias ya. Adiós.</td>\n      <td>0.000000</td>\n      <td>4</td>\n      <td>15</td>\n      <td>12</td>\n      <td>2022</td>\n      <td>Muchas gracias ya Adiós</td>\n    </tr>\n  </tbody>\n</table>\n<p>352834 rows × 9 columns</p>\n</div>"
     },
     "execution_count": 22,
     "metadata": {},
     "output_type": "execute_result"
    }
   ],
   "source": [
    "all_df[\"preprocess\"] = all_df.progress_apply(lambda row: split_content(row.Texto), axis=1)\n",
    "all_df"
   ],
   "metadata": {
    "collapsed": false
   }
  },
  {
   "cell_type": "code",
   "execution_count": 23,
   "outputs": [],
   "source": [
    "all_df.to_csv('/Users/almacuevas/work_projects/conferencias_matutinas_amlo/all_df_preprocess.csv')"
   ],
   "metadata": {
    "collapsed": false
   }
  },
  {
   "cell_type": "code",
   "execution_count": 28,
   "outputs": [
    {
     "data": {
      "text/plain": "                                                  term      rank\n0                  sara pablo radio fórmula presidente  1.000000\n1                        eso puede seguir pasando país  1.000000\n2                 jorge monroy periódico el economista  1.000000\n3    nosotros vamos respaldar compromisos inversion...  1.000000\n4                             en días creo va comenzar  1.000000\n..                                                 ...       ...\n935                  adulto mayor ciudad méxico muchas  0.188982\n936                 méxico muchas acciones eso general  0.188982\n937  financiar programa bienestar contratación jóvenes  0.188982\n938    estudiantes niveles escolaridad aumenta pensión  0.188982\n939                  van otorgar alrededor 10 millones  0.188982\n\n[940 rows x 2 columns]",
      "text/html": "<div>\n<style scoped>\n    .dataframe tbody tr th:only-of-type {\n        vertical-align: middle;\n    }\n\n    .dataframe tbody tr th {\n        vertical-align: top;\n    }\n\n    .dataframe thead th {\n        text-align: right;\n    }\n</style>\n<table border=\"1\" class=\"dataframe\">\n  <thead>\n    <tr style=\"text-align: right;\">\n      <th></th>\n      <th>term</th>\n      <th>rank</th>\n    </tr>\n  </thead>\n  <tbody>\n    <tr>\n      <th>0</th>\n      <td>sara pablo radio fórmula presidente</td>\n      <td>1.000000</td>\n    </tr>\n    <tr>\n      <th>1</th>\n      <td>eso puede seguir pasando país</td>\n      <td>1.000000</td>\n    </tr>\n    <tr>\n      <th>2</th>\n      <td>jorge monroy periódico el economista</td>\n      <td>1.000000</td>\n    </tr>\n    <tr>\n      <th>3</th>\n      <td>nosotros vamos respaldar compromisos inversion...</td>\n      <td>1.000000</td>\n    </tr>\n    <tr>\n      <th>4</th>\n      <td>en días creo va comenzar</td>\n      <td>1.000000</td>\n    </tr>\n    <tr>\n      <th>...</th>\n      <td>...</td>\n      <td>...</td>\n    </tr>\n    <tr>\n      <th>935</th>\n      <td>adulto mayor ciudad méxico muchas</td>\n      <td>0.188982</td>\n    </tr>\n    <tr>\n      <th>936</th>\n      <td>méxico muchas acciones eso general</td>\n      <td>0.188982</td>\n    </tr>\n    <tr>\n      <th>937</th>\n      <td>financiar programa bienestar contratación jóvenes</td>\n      <td>0.188982</td>\n    </tr>\n    <tr>\n      <th>938</th>\n      <td>estudiantes niveles escolaridad aumenta pensión</td>\n      <td>0.188982</td>\n    </tr>\n    <tr>\n      <th>939</th>\n      <td>van otorgar alrededor 10 millones</td>\n      <td>0.188982</td>\n    </tr>\n  </tbody>\n</table>\n<p>940 rows × 2 columns</p>\n</div>"
     },
     "execution_count": 28,
     "metadata": {},
     "output_type": "execute_result"
    }
   ],
   "source": [
    "df_year = all_df.loc[all_df[\"Anio\"]==2018][0:100]\n",
    "frequent_words = select_secondary_keywords_ngrams(df_year.preprocess, 5, 5)  #[0:max_n]\n",
    "frequent_words"
   ],
   "metadata": {
    "collapsed": false
   }
  },
  {
   "cell_type": "markdown",
   "source": [
    "# Unsupervised classification of all conversations"
   ],
   "metadata": {
    "collapsed": false
   }
  },
  {
   "cell_type": "code",
   "execution_count": 2,
   "outputs": [
    {
     "data": {
      "text/plain": "       Unnamed: 0.1  Unnamed: 0               term         rank  \\\n0                 0           0            gracias  1756.253788   \n1                 1           1         presidente  1361.448084   \n2                 2           6               días   909.247868   \n3                 3           7             buenos   843.438919   \n4                 4          10              señor   699.668977   \n...             ...         ...                ...          ...   \n20092         20092       40622               nath     0.108223   \n20093         20093       40623             jinpin     0.108223   \n20094         20094       40624            theresa     0.108223   \n20095         20095       40627  comercializadores     0.086605   \n20096         20096       40628         rendichica     0.086605   \n\n            parsed_doc   comment_tokens    comment_lemma pos_pos  \n0              gracias          gracias          gracias    NOUN  \n1           presidente       presidente       presidente    NOUN  \n2                  día              día              día    NOUN  \n3                 buen             buen             buen     ADJ  \n4                señor            señor            señor    NOUN  \n...                ...              ...              ...     ...  \n20092             nath             nath             nath    NOUN  \n20093           jinpin           jinpin           jinpin     ADJ  \n20094          theresa          theresa          theresa    NOUN  \n20095  comercializador  comercializador  comercializador     ADJ  \n20096       rendichico       rendichico       rendichico    NOUN  \n\n[20097 rows x 8 columns]",
      "text/html": "<div>\n<style scoped>\n    .dataframe tbody tr th:only-of-type {\n        vertical-align: middle;\n    }\n\n    .dataframe tbody tr th {\n        vertical-align: top;\n    }\n\n    .dataframe thead th {\n        text-align: right;\n    }\n</style>\n<table border=\"1\" class=\"dataframe\">\n  <thead>\n    <tr style=\"text-align: right;\">\n      <th></th>\n      <th>Unnamed: 0.1</th>\n      <th>Unnamed: 0</th>\n      <th>term</th>\n      <th>rank</th>\n      <th>parsed_doc</th>\n      <th>comment_tokens</th>\n      <th>comment_lemma</th>\n      <th>pos_pos</th>\n    </tr>\n  </thead>\n  <tbody>\n    <tr>\n      <th>0</th>\n      <td>0</td>\n      <td>0</td>\n      <td>gracias</td>\n      <td>1756.253788</td>\n      <td>gracias</td>\n      <td>gracias</td>\n      <td>gracias</td>\n      <td>NOUN</td>\n    </tr>\n    <tr>\n      <th>1</th>\n      <td>1</td>\n      <td>1</td>\n      <td>presidente</td>\n      <td>1361.448084</td>\n      <td>presidente</td>\n      <td>presidente</td>\n      <td>presidente</td>\n      <td>NOUN</td>\n    </tr>\n    <tr>\n      <th>2</th>\n      <td>2</td>\n      <td>6</td>\n      <td>días</td>\n      <td>909.247868</td>\n      <td>día</td>\n      <td>día</td>\n      <td>día</td>\n      <td>NOUN</td>\n    </tr>\n    <tr>\n      <th>3</th>\n      <td>3</td>\n      <td>7</td>\n      <td>buenos</td>\n      <td>843.438919</td>\n      <td>buen</td>\n      <td>buen</td>\n      <td>buen</td>\n      <td>ADJ</td>\n    </tr>\n    <tr>\n      <th>4</th>\n      <td>4</td>\n      <td>10</td>\n      <td>señor</td>\n      <td>699.668977</td>\n      <td>señor</td>\n      <td>señor</td>\n      <td>señor</td>\n      <td>NOUN</td>\n    </tr>\n    <tr>\n      <th>...</th>\n      <td>...</td>\n      <td>...</td>\n      <td>...</td>\n      <td>...</td>\n      <td>...</td>\n      <td>...</td>\n      <td>...</td>\n      <td>...</td>\n    </tr>\n    <tr>\n      <th>20092</th>\n      <td>20092</td>\n      <td>40622</td>\n      <td>nath</td>\n      <td>0.108223</td>\n      <td>nath</td>\n      <td>nath</td>\n      <td>nath</td>\n      <td>NOUN</td>\n    </tr>\n    <tr>\n      <th>20093</th>\n      <td>20093</td>\n      <td>40623</td>\n      <td>jinpin</td>\n      <td>0.108223</td>\n      <td>jinpin</td>\n      <td>jinpin</td>\n      <td>jinpin</td>\n      <td>ADJ</td>\n    </tr>\n    <tr>\n      <th>20094</th>\n      <td>20094</td>\n      <td>40624</td>\n      <td>theresa</td>\n      <td>0.108223</td>\n      <td>theresa</td>\n      <td>theresa</td>\n      <td>theresa</td>\n      <td>NOUN</td>\n    </tr>\n    <tr>\n      <th>20095</th>\n      <td>20095</td>\n      <td>40627</td>\n      <td>comercializadores</td>\n      <td>0.086605</td>\n      <td>comercializador</td>\n      <td>comercializador</td>\n      <td>comercializador</td>\n      <td>ADJ</td>\n    </tr>\n    <tr>\n      <th>20096</th>\n      <td>20096</td>\n      <td>40628</td>\n      <td>rendichica</td>\n      <td>0.086605</td>\n      <td>rendichico</td>\n      <td>rendichico</td>\n      <td>rendichico</td>\n      <td>NOUN</td>\n    </tr>\n  </tbody>\n</table>\n<p>20097 rows × 8 columns</p>\n</div>"
     },
     "execution_count": 2,
     "metadata": {},
     "output_type": "execute_result"
    }
   ],
   "source": [
    "year_label = '2019'\n",
    "frequent_words = pd.read_csv(f'/Users/almacuevas/work_projects/conferencias_matutinas_amlo/spacy_graph_metainfo/world_data_lemma_set_{year_label}.csv')\n",
    "frequent_words"
   ],
   "metadata": {
    "collapsed": false
   }
  },
  {
   "cell_type": "code",
   "execution_count": 5,
   "outputs": [
    {
     "name": "stdout",
     "output_type": "stream",
     "text": [
      "Cluster 0:\n",
      " útiles\n",
      " dotado\n",
      " dormilona\n",
      " dormilón\n",
      " dormitorios\n",
      " dorándonos\n",
      " dosis\n",
      " dotación\n",
      " dotadas\n",
      " dotados\n",
      " dormida\n",
      " dotes\n",
      " down\n",
      " doña\n",
      " draconiana\n",
      " dragado\n",
      " dragados\n",
      " dragas\n",
      " dormido\n",
      " doria\n",
      " duplicaciones\n",
      " donado\n",
      " domésticas\n",
      " doméstico\n",
      " domésticos\n",
      " don\n",
      " donaciones\n",
      " donación\n",
      " donadas\n",
      " donají\n",
      " dorenlas\n",
      " donantes\n",
      " donatarias\n",
      " donativos\n",
      " donceles\n",
      " dorada\n",
      " dorado\n",
      " dorados\n",
      " dragón\n",
      " drama\n",
      " dramatizada\n",
      " dudosa\n",
      " dublín\n",
      " duc\n",
      " ducto\n",
      " ductos\n",
      " duda\n",
      " dudas\n",
      " dudley\n",
      " duelo\n",
      " dramática\n",
      " dueña\n",
      " dueñas\n",
      " dueño\n",
      " dueños\n",
      " dulce\n",
      " dulzón\n",
      " dumping\n",
      " dubinsky\n",
      " dual\n",
      " drástico\n",
      " drásticas\n",
      " dramáticas\n",
      " dramático\n",
      " dramáticos\n",
      " drenado\n",
      " drenaje\n",
      " drenajes\n",
      " droga\n",
      " drogada\n",
      " drogadas\n",
      " drogadicción\n",
      " drogados\n",
      " drogas\n",
      " dron\n",
      " drones\n",
      " drástica\n",
      " doméstica\n",
      " domo\n",
      " dominio\n",
      " docentes\n",
      " doblegados\n",
      " dobles\n",
      " doblete\n",
      " docena\n",
      " docenas\n",
      " docencia\n",
      " docente\n",
      " doctor\n",
      " documentado\n",
      " doctora\n",
      " doctorados\n",
      " doctores\n",
      " doctrina\n",
      " doctrinas\n",
      " documentación\n",
      " documentada\n",
      " doble\n",
      " dobladito\n",
      " diódoro\n",
      "Cluster 1:\n",
      " cariñosos\n",
      " útiles\n",
      " dotadas\n",
      " dormilona\n",
      " dormilón\n",
      " dormitorios\n",
      " dorándonos\n",
      " dosis\n",
      " dotación\n",
      " dotado\n",
      " dormida\n",
      " dotados\n",
      " dotes\n",
      " down\n",
      " doña\n",
      " draconiana\n",
      " dragado\n",
      " dragados\n",
      " dormido\n",
      " doria\n",
      " dragón\n",
      " donado\n",
      " domésticas\n",
      " doméstico\n",
      " domésticos\n",
      " don\n",
      " donaciones\n",
      " donación\n",
      " donadas\n",
      " donají\n",
      " dorenlas\n",
      " donantes\n",
      " donatarias\n",
      " donativos\n",
      " donceles\n",
      " dorada\n",
      " dorado\n",
      " dorados\n",
      " dragas\n",
      " drama\n",
      " domo\n",
      " dudosa\n",
      " dublín\n",
      " duc\n",
      " ducto\n",
      " ductos\n",
      " duda\n",
      " dudas\n",
      " dudley\n",
      " duelo\n",
      " dual\n",
      " dueña\n",
      " dueñas\n",
      " dueño\n",
      " dueños\n",
      " dulce\n",
      " dulzón\n",
      " dumping\n",
      " dubinsky\n",
      " drástico\n",
      " dramatizada\n",
      " droga\n",
      " dramática\n",
      " dramáticas\n",
      " dramático\n",
      " dramáticos\n",
      " drenado\n",
      " drenaje\n",
      " drenajes\n",
      " drogada\n",
      " drásticas\n",
      " drogadas\n",
      " drogadicción\n",
      " drogados\n",
      " drogas\n",
      " dron\n",
      " drones\n",
      " drástica\n",
      " doméstica\n",
      " dominio\n",
      " duplicaciones\n",
      " docentes\n",
      " doblegados\n",
      " dobles\n",
      " doblete\n",
      " docena\n",
      " docenas\n",
      " docencia\n",
      " docente\n",
      " doctor\n",
      " documentado\n",
      " doctora\n",
      " doctorados\n",
      " doctores\n",
      " doctrina\n",
      " doctrinas\n",
      " documentación\n",
      " documentada\n",
      " doble\n",
      " dobladito\n"
     ]
    }
   ],
   "source": [
    "vectorizer = TfidfVectorizer(stop_words=stopwords.words(\"spanish\"))\n",
    "X = vectorizer.fit_transform(frequent_words[\"term\"])\n",
    "true_k = 2 # Number of groups\n",
    "model = KMeans(n_clusters=true_k, init='k-means++', max_iter=100, n_init=1)\n",
    "model.fit(X)\n",
    "order_centroids = model.cluster_centers_.argsort()[:, ::-1]\n",
    "terms = vectorizer.get_feature_names_out()\n",
    "for i in range(true_k):\n",
    "    print(\"Cluster %d:\" % i),\n",
    "    for ind in order_centroids[i, :100]:\n",
    "        print(' %s' % terms[ind])"
   ],
   "metadata": {
    "collapsed": false
   }
  },
  {
   "cell_type": "code",
   "execution_count": null,
   "outputs": [],
   "source": [],
   "metadata": {
    "collapsed": false
   }
  }
 ],
 "metadata": {
  "kernelspec": {
   "display_name": "Python 3",
   "language": "python",
   "name": "python3"
  },
  "language_info": {
   "codemirror_mode": {
    "name": "ipython",
    "version": 2
   },
   "file_extension": ".py",
   "mimetype": "text/x-python",
   "name": "python",
   "nbconvert_exporter": "python",
   "pygments_lexer": "ipython2",
   "version": "2.7.6"
  }
 },
 "nbformat": 4,
 "nbformat_minor": 0
}
