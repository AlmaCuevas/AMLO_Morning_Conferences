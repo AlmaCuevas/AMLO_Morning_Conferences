{
 "cells": [
  {
   "cell_type": "code",
   "execution_count": 1,
   "metadata": {
    "collapsed": true
   },
   "outputs": [],
   "source": [
    "import os\n",
    "import pandas as pd\n",
    "import seaborn as sns"
   ]
  },
  {
   "cell_type": "code",
   "execution_count": 2,
   "outputs": [],
   "source": [
    "root_dir = os.getcwd()\n",
    "year_folders = [f for f in os.listdir(root_dir) if f.startswith(\"20\")]\n",
    "\n",
    "all_df = pd.DataFrame(\n",
    "    columns=[\"Participante\", \"Texto\", \"Sentimiento\", \"Palabras\", \"Dia\", \"Mes\", \"Anio\"]\n",
    ")"
   ],
   "metadata": {
    "collapsed": false
   }
  },
  {
   "cell_type": "code",
   "execution_count": 3,
   "outputs": [
    {
     "name": "stderr",
     "output_type": "stream",
     "text": [
      "/var/folders/v0/vyb8z9hs3b166f_7lmxwvfbr0000gn/T/ipykernel_78049/4292726032.py:9: FutureWarning: The behavior of DataFrame concatenation with empty or all-NA entries is deprecated. In a future version, this will no longer exclude empty or all-NA columns when determining the result dtypes. To retain the old behavior, exclude the relevant entries before the concat operation.\n",
      "  all_df = pd.concat(\n"
     ]
    },
    {
     "data": {
      "text/plain": "                                   Participante  \\\n0       -PRESIDENTE ANDRES MANUEL LOPEZ OBRADOR   \n1       -PRESIDENTE ANDRES MANUEL LOPEZ OBRADOR   \n2       -PRESIDENTE ANDRES MANUEL LOPEZ OBRADOR   \n3       -PRESIDENTE ANDRES MANUEL LOPEZ OBRADOR   \n4       -PRESIDENTE ANDRES MANUEL LOPEZ OBRADOR   \n...                                         ...   \n352829   PRESIDENTE ANDRES MANUEL LOPEZ OBRADOR   \n352830   PRESIDENTE ANDRES MANUEL LOPEZ OBRADOR   \n352831   PRESIDENTE ANDRES MANUEL LOPEZ OBRADOR   \n352832   PRESIDENTE ANDRES MANUEL LOPEZ OBRADOR   \n352833   PRESIDENTE ANDRES MANUEL LOPEZ OBRADOR   \n\n                                                    Texto  Sentimiento  \\\n0        Informarles que el día de hoy voy a enviar al...     0.001959   \n1       Les doy a conocer los nombres de quienes están...     0.771382   \n2       La abogada Loretta Ortiz. Ella es egresada de ...     0.034682   \n3       También, la licenciada Celia Maya García. Ella...     0.003624   \n4       Y el tercer abogado propuesto es el licenciado...     0.017006   \n...                                                   ...          ...   \n352829  Y va a seguir ayudando Ricardo en Coahuila par...     0.000000   \n352830  Esto me lo plantearon en una reunión que tuve ...     0.000000   \n352831      Entonces, él va a seguir ayudándonos en esto.     0.000000   \n352832  Y con mucha responsabilidad, con mucha madurez...     0.000000   \n352833                          Muchas gracias ya. Adiós.     0.000000   \n\n       Palabras Dia Mes  Anio  \n0            58   6  12  2018  \n1            10   6  12  2018  \n2            27   6  12  2018  \n3            46   6  12  2018  \n4            39   6  12  2018  \n...         ...  ..  ..   ...  \n352829       38  15  12  2022  \n352830       67  15  12  2022  \n352831        8  15  12  2022  \n352832       44  15  12  2022  \n352833        4  15  12  2022  \n\n[352834 rows x 7 columns]",
      "text/html": "<div>\n<style scoped>\n    .dataframe tbody tr th:only-of-type {\n        vertical-align: middle;\n    }\n\n    .dataframe tbody tr th {\n        vertical-align: top;\n    }\n\n    .dataframe thead th {\n        text-align: right;\n    }\n</style>\n<table border=\"1\" class=\"dataframe\">\n  <thead>\n    <tr style=\"text-align: right;\">\n      <th></th>\n      <th>Participante</th>\n      <th>Texto</th>\n      <th>Sentimiento</th>\n      <th>Palabras</th>\n      <th>Dia</th>\n      <th>Mes</th>\n      <th>Anio</th>\n    </tr>\n  </thead>\n  <tbody>\n    <tr>\n      <th>0</th>\n      <td>-PRESIDENTE ANDRES MANUEL LOPEZ OBRADOR</td>\n      <td>Informarles que el día de hoy voy a enviar al...</td>\n      <td>0.001959</td>\n      <td>58</td>\n      <td>6</td>\n      <td>12</td>\n      <td>2018</td>\n    </tr>\n    <tr>\n      <th>1</th>\n      <td>-PRESIDENTE ANDRES MANUEL LOPEZ OBRADOR</td>\n      <td>Les doy a conocer los nombres de quienes están...</td>\n      <td>0.771382</td>\n      <td>10</td>\n      <td>6</td>\n      <td>12</td>\n      <td>2018</td>\n    </tr>\n    <tr>\n      <th>2</th>\n      <td>-PRESIDENTE ANDRES MANUEL LOPEZ OBRADOR</td>\n      <td>La abogada Loretta Ortiz. Ella es egresada de ...</td>\n      <td>0.034682</td>\n      <td>27</td>\n      <td>6</td>\n      <td>12</td>\n      <td>2018</td>\n    </tr>\n    <tr>\n      <th>3</th>\n      <td>-PRESIDENTE ANDRES MANUEL LOPEZ OBRADOR</td>\n      <td>También, la licenciada Celia Maya García. Ella...</td>\n      <td>0.003624</td>\n      <td>46</td>\n      <td>6</td>\n      <td>12</td>\n      <td>2018</td>\n    </tr>\n    <tr>\n      <th>4</th>\n      <td>-PRESIDENTE ANDRES MANUEL LOPEZ OBRADOR</td>\n      <td>Y el tercer abogado propuesto es el licenciado...</td>\n      <td>0.017006</td>\n      <td>39</td>\n      <td>6</td>\n      <td>12</td>\n      <td>2018</td>\n    </tr>\n    <tr>\n      <th>...</th>\n      <td>...</td>\n      <td>...</td>\n      <td>...</td>\n      <td>...</td>\n      <td>...</td>\n      <td>...</td>\n      <td>...</td>\n    </tr>\n    <tr>\n      <th>352829</th>\n      <td>PRESIDENTE ANDRES MANUEL LOPEZ OBRADOR</td>\n      <td>Y va a seguir ayudando Ricardo en Coahuila par...</td>\n      <td>0.000000</td>\n      <td>38</td>\n      <td>15</td>\n      <td>12</td>\n      <td>2022</td>\n    </tr>\n    <tr>\n      <th>352830</th>\n      <td>PRESIDENTE ANDRES MANUEL LOPEZ OBRADOR</td>\n      <td>Esto me lo plantearon en una reunión que tuve ...</td>\n      <td>0.000000</td>\n      <td>67</td>\n      <td>15</td>\n      <td>12</td>\n      <td>2022</td>\n    </tr>\n    <tr>\n      <th>352831</th>\n      <td>PRESIDENTE ANDRES MANUEL LOPEZ OBRADOR</td>\n      <td>Entonces, él va a seguir ayudándonos en esto.</td>\n      <td>0.000000</td>\n      <td>8</td>\n      <td>15</td>\n      <td>12</td>\n      <td>2022</td>\n    </tr>\n    <tr>\n      <th>352832</th>\n      <td>PRESIDENTE ANDRES MANUEL LOPEZ OBRADOR</td>\n      <td>Y con mucha responsabilidad, con mucha madurez...</td>\n      <td>0.000000</td>\n      <td>44</td>\n      <td>15</td>\n      <td>12</td>\n      <td>2022</td>\n    </tr>\n    <tr>\n      <th>352833</th>\n      <td>PRESIDENTE ANDRES MANUEL LOPEZ OBRADOR</td>\n      <td>Muchas gracias ya. Adiós.</td>\n      <td>0.000000</td>\n      <td>4</td>\n      <td>15</td>\n      <td>12</td>\n      <td>2022</td>\n    </tr>\n  </tbody>\n</table>\n<p>352834 rows × 7 columns</p>\n</div>"
     },
     "execution_count": 3,
     "metadata": {},
     "output_type": "execute_result"
    }
   ],
   "source": [
    "# Tree of folders\n",
    "for year in year_folders:\n",
    "    month_folders = os.listdir(os.path.join(root_dir, year))\n",
    "    for month in month_folders:\n",
    "        day_folders = os.listdir(os.path.join(*[root_dir, year, month]))\n",
    "        for day in day_folders:\n",
    "            final_path = os.path.join(*[root_dir, year, month, day])\n",
    "            file_name = [f for f in os.listdir(final_path) if f.endswith(\".csv\")][0]\n",
    "            all_df = pd.concat(\n",
    "                [\n",
    "                    pd.read_csv(os.path.join(*[root_dir, year, month, day, file_name])),\n",
    "                    all_df,\n",
    "                ],\n",
    "                axis=0,\n",
    "                ignore_index=True,\n",
    "            )\n",
    "all_df"
   ],
   "metadata": {
    "collapsed": false
   }
  },
  {
   "cell_type": "code",
   "execution_count": null,
   "outputs": [],
   "source": [],
   "metadata": {
    "collapsed": false
   }
  },
  {
   "cell_type": "code",
   "execution_count": 4,
   "outputs": [],
   "source": [
    "all_df.to_csv('/Users/almacuevas/work_projects/conferencias_matutinas_amlo/all_df.csv')"
   ],
   "metadata": {
    "collapsed": false
   }
  },
  {
   "cell_type": "code",
   "execution_count": 5,
   "outputs": [],
   "source": [
    "df_2018 = all_df.loc[all_df[\"Anio\"]==2018]\n",
    "df_2019 = all_df.loc[all_df[\"Anio\"]==2019]\n",
    "df_2020 = all_df.loc[all_df[\"Anio\"]==2020]\n",
    "df_2021 = all_df.loc[all_df[\"Anio\"]==2021]\n",
    "df_2022 = all_df.loc[all_df[\"Anio\"]==2022]\n",
    "df_2023 = all_df.loc[all_df[\"Anio\"]==2023]\n",
    "df_2018.to_csv('/Users/almacuevas/work_projects/conferencias_matutinas_amlo/df_2018.csv')\n",
    "df_2019.to_csv('/Users/almacuevas/work_projects/conferencias_matutinas_amlo/df_2019.csv')\n",
    "df_2020.to_csv('/Users/almacuevas/work_projects/conferencias_matutinas_amlo/df_2020.csv')\n",
    "df_2021.to_csv('/Users/almacuevas/work_projects/conferencias_matutinas_amlo/df_2021.csv')\n",
    "df_2022.to_csv('/Users/almacuevas/work_projects/conferencias_matutinas_amlo/df_2022.csv')\n",
    "df_2023.to_csv('/Users/almacuevas/work_projects/conferencias_matutinas_amlo/df_2023.csv')"
   ],
   "metadata": {
    "collapsed": false
   }
  },
  {
   "cell_type": "markdown",
   "source": [
    "# Basic graph"
   ],
   "metadata": {
    "collapsed": false
   }
  },
  {
   "cell_type": "code",
   "execution_count": 6,
   "outputs": [
    {
     "data": {
      "text/plain": "      Anio  Mes  Dia   Palabras\n0     2018   12    4   27.79878\n1     2018   12    6  25.635514\n2     2018   12    7  26.480663\n3     2018   12   10  29.829787\n4     2018   12   26    34.4625\n...    ...  ...  ...        ...\n1143  2023    9    4  42.627451\n1144  2023    9    5  42.589443\n1145  2023    9    6  36.544379\n1146  2023    9    7  33.491349\n1147  2023    9    8  36.403509\n\n[1148 rows x 4 columns]",
      "text/html": "<div>\n<style scoped>\n    .dataframe tbody tr th:only-of-type {\n        vertical-align: middle;\n    }\n\n    .dataframe tbody tr th {\n        vertical-align: top;\n    }\n\n    .dataframe thead th {\n        text-align: right;\n    }\n</style>\n<table border=\"1\" class=\"dataframe\">\n  <thead>\n    <tr style=\"text-align: right;\">\n      <th></th>\n      <th>Anio</th>\n      <th>Mes</th>\n      <th>Dia</th>\n      <th>Palabras</th>\n    </tr>\n  </thead>\n  <tbody>\n    <tr>\n      <th>0</th>\n      <td>2018</td>\n      <td>12</td>\n      <td>4</td>\n      <td>27.79878</td>\n    </tr>\n    <tr>\n      <th>1</th>\n      <td>2018</td>\n      <td>12</td>\n      <td>6</td>\n      <td>25.635514</td>\n    </tr>\n    <tr>\n      <th>2</th>\n      <td>2018</td>\n      <td>12</td>\n      <td>7</td>\n      <td>26.480663</td>\n    </tr>\n    <tr>\n      <th>3</th>\n      <td>2018</td>\n      <td>12</td>\n      <td>10</td>\n      <td>29.829787</td>\n    </tr>\n    <tr>\n      <th>4</th>\n      <td>2018</td>\n      <td>12</td>\n      <td>26</td>\n      <td>34.4625</td>\n    </tr>\n    <tr>\n      <th>...</th>\n      <td>...</td>\n      <td>...</td>\n      <td>...</td>\n      <td>...</td>\n    </tr>\n    <tr>\n      <th>1143</th>\n      <td>2023</td>\n      <td>9</td>\n      <td>4</td>\n      <td>42.627451</td>\n    </tr>\n    <tr>\n      <th>1144</th>\n      <td>2023</td>\n      <td>9</td>\n      <td>5</td>\n      <td>42.589443</td>\n    </tr>\n    <tr>\n      <th>1145</th>\n      <td>2023</td>\n      <td>9</td>\n      <td>6</td>\n      <td>36.544379</td>\n    </tr>\n    <tr>\n      <th>1146</th>\n      <td>2023</td>\n      <td>9</td>\n      <td>7</td>\n      <td>33.491349</td>\n    </tr>\n    <tr>\n      <th>1147</th>\n      <td>2023</td>\n      <td>9</td>\n      <td>8</td>\n      <td>36.403509</td>\n    </tr>\n  </tbody>\n</table>\n<p>1148 rows × 4 columns</p>\n</div>"
     },
     "execution_count": 6,
     "metadata": {},
     "output_type": "execute_result"
    }
   ],
   "source": [
    "words_per_year = all_df.groupby(by=[\"Anio\", \"Mes\", \"Dia\" ]).agg({'Palabras': 'mean'}).reset_index()\n",
    "words_per_year"
   ],
   "metadata": {
    "collapsed": false
   }
  },
  {
   "cell_type": "code",
   "execution_count": 7,
   "outputs": [
    {
     "name": "stderr",
     "output_type": "stream",
     "text": [
      "/Users/almacuevas/work_projects/conferencias_matutinas_amlo/env_amlo/lib/python3.10/site-packages/seaborn/_oldcore.py:1498: FutureWarning: is_categorical_dtype is deprecated and will be removed in a future version. Use isinstance(dtype, CategoricalDtype) instead\n",
      "  if pd.api.types.is_categorical_dtype(vector):\n",
      "/Users/almacuevas/work_projects/conferencias_matutinas_amlo/env_amlo/lib/python3.10/site-packages/seaborn/_oldcore.py:1498: FutureWarning: is_categorical_dtype is deprecated and will be removed in a future version. Use isinstance(dtype, CategoricalDtype) instead\n",
      "  if pd.api.types.is_categorical_dtype(vector):\n",
      "/Users/almacuevas/work_projects/conferencias_matutinas_amlo/env_amlo/lib/python3.10/site-packages/seaborn/_oldcore.py:1498: FutureWarning: is_categorical_dtype is deprecated and will be removed in a future version. Use isinstance(dtype, CategoricalDtype) instead\n",
      "  if pd.api.types.is_categorical_dtype(vector):\n"
     ]
    },
    {
     "data": {
      "text/plain": "[Text(0.5, 0, 'Number of words'),\n Text(0, 0.5, 'Year'),\n Text(0.5, 1.0, 'Words said per year')]"
     },
     "execution_count": 7,
     "metadata": {},
     "output_type": "execute_result"
    },
    {
     "data": {
      "text/plain": "<Figure size 640x480 with 1 Axes>",
      "image/png": "[encoded data removed]"
     },
     "metadata": {},
     "output_type": "display_data"
    }
   ],
   "source": [
    "ax = sns.boxplot(data=words_per_year, x=\"Anio\", y=\"Palabras\", showmeans=True, meanprops={\"marker\": \"+\",\n",
    "                       \"markeredgecolor\": \"black\",\n",
    "                       \"markersize\": \"10\"})\n",
    "ax.set(xlabel='Number of words',\n",
    "       ylabel='Year',\n",
    "       title='Words said per year')"
   ],
   "metadata": {
    "collapsed": false
   }
  }
 ],
 "metadata": {
  "kernelspec": {
   "display_name": "Python 3",
   "language": "python",
   "name": "python3"
  },
  "language_info": {
   "codemirror_mode": {
    "name": "ipython",
    "version": 2
   },
   "file_extension": ".py",
   "mimetype": "text/x-python",
   "name": "python",
   "nbconvert_exporter": "python",
   "pygments_lexer": "ipython2",
   "version": "2.7.6"
  }
 },
 "nbformat": 4,
 "nbformat_minor": 0
}
